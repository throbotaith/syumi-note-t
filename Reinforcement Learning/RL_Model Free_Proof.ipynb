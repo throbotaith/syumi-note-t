{
 "cells": [
  {
   "attachments": {},
   "cell_type": "markdown",
   "metadata": {},
   "source": [
    "#### モデルフリーの強化学習に関する説明と証明\n"
   ]
  },
  {
   "attachments": {},
   "cell_type": "markdown",
   "metadata": {},
   "source": [
    "目次\\\n",
    "０．証明のためのいくつかの補題とその証明\n",
    "\n",
    "**収縮写像**\n",
    "\n",
    "ここでは、ある関数に対する作用素が、縮小性をもつということを示すために必要な命題とその証明について見ていきます。\n",
    "\n",
    "繰り返し繰り返し作用素を適用していきそれが最適値に収束するためには、作用素を適用していくごとに何かが減少していけば嬉しいです。そのなにかを今から指名していきます。\n",
    "\n",
    "1.事前の準備\n",
    "まず、ある状態に対して実数を出力する状態関数を定義します。\n",
    "$v(s):S\\rightarrow R,v'(s):S\\rightarrow R$\n",
    "\n",
    "この２つの関数の差分を考えます。この差分は$S$個あります。その中で最小のものと最大のものを以下のように定義します。\n",
    "\n",
    "$L = min_{s\\in S}(v'(s)-v(s))$\n",
    "\n",
    "$H = max_{s\\in S}(v'(s) -v(s))$\n",
    "\n",
    "ここから直感として$L$と$v(s)$を足した値、つまり差分の最小値とv(s)を足した値はv'(s)に対してどのような大小関係を持つでしょうか？$v(s)$の値が最大の場合、$v'(s)$との差分は$L$なので、この２つを足してもせいぜい$v'(s)$になります。つまり、先述の2つを足しても大きさは$v'(s)$かそれ以下になります。ですので、\n",
    "\n",
    "$v(s)+L <= v'(s)$\n",
    "\n",
    "同様に考えて\n",
    "\n",
    "$v'(s)<= v(s) + L$\n",
    "\n",
    "となります。\n",
    "\n",
    "ここから、k回ベルマン作用素を適用させます。さらに、ベルマン作用素の補題から変形を行います。\n",
    "\n",
    "$B_*^k(v(s)+L) \\leqq\\left(B_*^k v^{\\prime}\\right)(s)$\n",
    "\n",
    "$\\left(B_*^k v\\right)(s)+\\gamma^k L=\\left(B_*^k v^{\\prime}\\right)(s) \\quad \\forall s \\in S$\n",
    "\n",
    "$L$を置き換えると、\n",
    "\n",
    "$\\gamma^k \\min \\left\\{v^{\\prime}(s)-v(S)\\right\\} \\leqq\\left(B_*^k v^{\\prime}\\right)(S)-\\left(B_*^k v\\right)(S)$\n",
    "\n",
    "となります。ただ、この式だけだたと縮小性をうまく表現できていません。そこで、もう少し考えてみましょう。これは任意の$s \\in S$で成り立ちます。つまりこの任意の$s$に関して、下限を考えてみます。この下限とは、最小値$\\min _{s \\in S}\\left\\{\\left(B_*^k v^{\\prime}\\right)(s)-\\left(B_*^k v\\right)(s)\\right\\}$にほかなりません。ですので、これを書き換えて、\n",
    "\n",
    "$\\gamma^k \\min _{s \\in s}\\left\\{V^{\\prime}(s)-V(s)\\right\\} \\leqq \\min _{s \\in S}\\left\\{\\left(B^k * V^{\\prime}\\right)(s)-\\left(B_*^k V\\right)(s)\\right\\}$\n",
    "\n",
    "です。これはベルマン作用素を繰り返せば繰り返すほど、誤差の最小値が大きくなっていくことをしめしています。。。。。ん？なんかおかしいので後で考えてみましょう。また同様に\n",
    "\n",
    "\n",
    "\n",
    "\n",
    "\n",
    "\n",
    "\n",
    "**バナッハの不動点定理(収縮写像の定理)**\n",
    "\n",
    "\n",
    "**ノルム**\n",
    "\n",
    "\n",
    "１．TD法の説明と収束に関する証明\n",
    "\n",
    "\n",
    "２．Q学習の収束に関する証明\n",
    "\n",
    "\n",
    "３．SARSAの収束に関する証明\n"
   ]
  },
  {
   "cell_type": "code",
   "execution_count": null,
   "metadata": {},
   "outputs": [],
   "source": [
    "####"
   ]
  }
 ],
 "metadata": {
  "kernelspec": {
   "display_name": "Python 3",
   "language": "python",
   "name": "python3"
  },
  "language_info": {
   "name": "python",
   "version": "3.8.10 (default, Nov 14 2022, 12:59:47) \n[GCC 9.4.0]"
  },
  "orig_nbformat": 4,
  "vscode": {
   "interpreter": {
    "hash": "31f2aee4e71d21fbe5cf8b01ff0e069b9275f58929596ceb00d14d90e3e16cd6"
   }
  }
 },
 "nbformat": 4,
 "nbformat_minor": 2
}
