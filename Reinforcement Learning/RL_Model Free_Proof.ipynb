{
 "cells": [
  {
   "attachments": {},
   "cell_type": "markdown",
   "metadata": {},
   "source": [
    "#### モデルフリーの強化学習に関する説明と証明\n"
   ]
  },
  {
   "attachments": {},
   "cell_type": "markdown",
   "metadata": {},
   "source": [
    "目次\\\n",
    "０．証明のためのいくつかの補題とその証明\\\n",
    "    ０．１．縮小写像\\\n",
    "    ０．２．ノルム\\\n",
    "１．TD法の説明と収束に関する証明\\\n",
    "２．Q学習の収束に関する証明\\\n",
    "３．SARSAの収束に関する証明\n"
   ]
  },
  {
   "cell_type": "code",
   "execution_count": null,
   "metadata": {},
   "outputs": [],
   "source": [
    "####"
   ]
  }
 ],
 "metadata": {
  "language_info": {
   "name": "python"
  },
  "orig_nbformat": 4
 },
 "nbformat": 4,
 "nbformat_minor": 2
}
