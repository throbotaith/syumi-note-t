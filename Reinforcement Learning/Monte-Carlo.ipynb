{
 "cells": [
  {
   "cell_type": "code",
   "execution_count": null,
   "metadata": {},
   "outputs": [],
   "source": [
    "import numpy as np\n",
    "import matplotlib.pyplot as plt\n",
    "import random\n",
    "from typing import NamedTuple, Optional\n"
   ]
  },
  {
   "cell_type": "code",
   "execution_count": null,
   "metadata": {},
   "outputs": [],
   "source": [
    "#MDPの定義\n",
    "class MDP(NamedTuple):\n",
    "    S_array :np.array\n",
    "    A_array :np.array\n",
    "    gamma : float\n",
    "    horizon : int\n",
    "    rew : float\n",
    "    P : float\n",
    "\n",
    "    def S(self) -> int:\n",
    "        return len(self.S_array)\n",
    "\n",
    "    def A(self) -> int:\n",
    "        return len(self.A_array)\n"
   ]
  },
  {
   "cell_type": "code",
   "execution_count": null,
   "metadata": {},
   "outputs": [],
   "source": [
    "mdp = MDP\n",
    "S = 2\n",
    "A = 3\n",
    "P= np.zeros((S,A,S))\n",
    "P[0][0][0] = 0.8\n",
    "P[0][0][1] = 0.2\n",
    "P[0][1][1] = 1\n",
    "P[0][2][0] = 1\n",
    "P[1][0][1] = 1\n",
    "\n",
    "R = np.zeros((S,A))\n",
    "R[0][0] = 5\n",
    "R[0][1] = 10\n",
    "R[0][2] = 2\n",
    "R[1][0] = 1\n",
    "\n",
    "\n",
    "random_policy= np.zeros((S,A))\n",
    "#S=0のときは必ず行動0,S=1のときも必ず行動0を出す決定的方策\n",
    "random_policy[0][0] = 1\n",
    "random_policy[1][0] = 1\n",
    "\n",
    "def choose_element_with_probability(probabilities):\n",
    "    elements = [0, 1]\n",
    "    selected_element = random.choices(elements, probabilities)[0]\n",
    "    return selected_element\n",
    "\n",
    "def sample_action_from_policy(s,policy):\n",
    "    return np.argmax(policy[s][:])\n",
    "\n",
    "def sample_state_from_action(s,a,P):\n",
    "    if np.max(P[s][a][:]) == 1:\n",
    "        return np.argmax(P[s][a][:])\n",
    "    elif np.max(P[s][a][:]) == 0:\n",
    "        return s\n",
    "    else:\n",
    "        return choose_element_with_probability(P[s][a][:])   \n",
    "\n",
    "\n",
    "#step関数でs,a,r,s'を求める\n",
    "def step(policy,P,R,state):\n",
    "    action = sample_action_from_policy(state,policy)\n",
    "    next_state = sample_state_from_action(state,action,P)\n",
    "    reward = R[state][action]\n",
    "    SARS = state,action,reward,next_state\n",
    "    return SARS\n",
    "\n",
    "\n",
    "#s=0からはじめて100回policyにしたがって行動したデータを収集\n",
    "state = 0\n",
    "data = []\n",
    "sars = step(random_policy,P,R,state)\n",
    "data.append(sars)\n",
    "for i in range(10000):\n",
    "    sars = step(random_policy,P,R,sars[3])\n",
    "    data.append(sars)\n"
   ]
  },
  {
   "cell_type": "code",
   "execution_count": null,
   "metadata": {},
   "outputs": [],
   "source": [
    "gamma = 0.9\n"
   ]
  },
  {
   "cell_type": "code",
   "execution_count": null,
   "metadata": {},
   "outputs": [],
   "source": []
  },
  {
   "cell_type": "code",
   "execution_count": 109,
   "metadata": {},
   "outputs": [
    {
     "data": {
      "text/plain": [
       "18.756000000000018"
      ]
     },
     "execution_count": 109,
     "metadata": {},
     "output_type": "execute_result"
    }
   ],
   "source": [
    "#データからモンテカルロ推定する\n",
    "T_dash = 9000\n",
    "\n",
    "def calc_state_appearance(state,data,num):\n",
    "    state_ap_num = 0\n",
    "    ap_idx = []\n",
    "    for i in range(num):\n",
    "        if data[i][0] == state:\n",
    "            state_ap_num += 1\n",
    "            ap_idx.append(i)\n",
    "    return state_ap_num,ap_idx\n",
    "\n",
    "num,ap_idx = calc_state_appearance(1,data,10000)\n",
    "\n",
    "def calc_reward_from_state_as_s0(state,data,num):\n",
    "    c = 0\n",
    "    \n",
    "def monte_carlo(state,data,num,gamma):\n",
    "    reward = 0\n",
    "    rewards = 0\n",
    "    multiplication_num = 1\n",
    "    state_ap_num = 0\n",
    "    for i in range(num):\n",
    "         if data[i][0] == state:\n",
    "            state_ap_num += 1\n",
    "            for j in range(i,num):\n",
    "                reward += data[j][2] * gamma ** multiplication_num\n",
    "                multiplication_num += 1\n",
    "            rewards += reward\n",
    "\n",
    "    return rewards/state_ap_num\n",
    "\n",
    "monte_carlo(0,data,10000,gamma) #πに従う行動履歴から推定した状態0の価値\n",
    "monte_carlo(0,data,10000,gamma) #πに従う行動履歴から推定した状態1の価値"
   ]
  }
 ],
 "metadata": {
  "kernelspec": {
   "display_name": "Python 3",
   "language": "python",
   "name": "python3"
  },
  "language_info": {
   "codemirror_mode": {
    "name": "ipython",
    "version": 3
   },
   "file_extension": ".py",
   "mimetype": "text/x-python",
   "name": "python",
   "nbconvert_exporter": "python",
   "pygments_lexer": "ipython3",
   "version": "3.8.10"
  },
  "orig_nbformat": 4,
  "vscode": {
   "interpreter": {
    "hash": "31f2aee4e71d21fbe5cf8b01ff0e069b9275f58929596ceb00d14d90e3e16cd6"
   }
  }
 },
 "nbformat": 4,
 "nbformat_minor": 2
}
