{
  "nbformat": 4,
  "nbformat_minor": 0,
  "metadata": {
    "colab": {
      "provenance": []
    },
    "kernelspec": {
      "name": "python3",
      "display_name": "Python 3"
    },
    "language_info": {
      "name": "python"
    }
  },
  "cells": [
    {
      "cell_type": "code",
      "execution_count": 1,
      "metadata": {
        "id": "t4BtG22G-JZQ"
      },
      "outputs": [],
      "source": [
        "import numpy as np"
      ]
    },
    {
      "cell_type": "code",
      "source": [
        "import numpy as np\n",
        "import matplotlib.pyplot as plt\n",
        "import random\n",
        "from typing import NamedTuple, Optional"
      ],
      "metadata": {
        "id": "VigiZgB--N2z"
      },
      "execution_count": 2,
      "outputs": []
    },
    {
      "cell_type": "code",
      "source": [
        "class MDP(NamedTuple):\n",
        "    S_array :np.array\n",
        "    A_array :np.array\n",
        "    gamma : float\n",
        "    horizon : int\n",
        "    rew : float\n",
        "    P : float\n",
        "\n",
        "    def S(self) -> int:\n",
        "        return len(self.S_array)\n",
        "\n",
        "    def A(self) -> int:\n",
        "        return len(self.A_array)"
      ],
      "metadata": {
        "id": "_VOhQQO__Z9d"
      },
      "execution_count": 3,
      "outputs": []
    },
    {
      "cell_type": "code",
      "source": [
        "mdp = MDP\n",
        "S = 2\n",
        "A = 3\n",
        "P= np.zeros((S,A,S))\n",
        "P[0][0][0] = 0.8\n",
        "P[0][0][1] = 0.2\n",
        "P[0][1][1] = 1\n",
        "P[0][2][0] = 1\n",
        "P[1][0][1] = 1\n",
        "\n",
        "R = np.zeros((S,A))\n",
        "R[0][0] = 5\n",
        "R[0][1] = 10\n",
        "R[0][2] = 2\n",
        "R[1][0] = 1\n"
      ],
      "metadata": {
        "id": "aGm7Qy04_dtr"
      },
      "execution_count": 4,
      "outputs": []
    },
    {
      "cell_type": "code",
      "source": [
        "def choose_element_with_probability(probabilities):\n",
        "    elements = [0, 1]\n",
        "    selected_element = random.choices(elements, probabilities)[0]\n",
        "    return selected_element\n",
        "\n",
        "#決定論的な方策\n",
        "def sample_action_from_policy(s,policy):\n",
        "    return np.argmax(policy[s][:])\n",
        "\n",
        "def sample_state_from_action(s,a,P):\n",
        "    if np.max(P[s][a][:]) == 1:\n",
        "        return np.argmax(P[s][a][:])\n",
        "    elif np.max(P[s][a][:]) == 0:\n",
        "        return s\n",
        "    else:\n",
        "        return choose_element_with_probability(P[s][a][:])\n",
        "\n",
        "\n",
        "#step関数でs,a,r,s'を求める\n",
        "def step(policy,P,R,state):\n",
        "    action = sample_action_from_policy(state,policy)\n",
        "    next_state = sample_state_from_action(state,action,P)\n",
        "    reward = R[state][action]\n",
        "    SARS = state,action,reward,next_state\n",
        "    return SARS"
      ],
      "metadata": {
        "id": "Z6kD8gwD_4G7"
      },
      "execution_count": 22,
      "outputs": []
    },
    {
      "cell_type": "code",
      "source": [],
      "metadata": {
        "id": "1AmDhUQ5BXl0"
      },
      "execution_count": null,
      "outputs": []
    },
    {
      "cell_type": "code",
      "source": [
        "Q_value = np.random.rand(S,A)\n",
        "timestep = 0\n",
        "s0 = 0"
      ],
      "metadata": {
        "id": "z7F141KIAB7v"
      },
      "execution_count": 46,
      "outputs": []
    },
    {
      "cell_type": "code",
      "source": [
        "gamma = 0.9\n",
        "alpha = 0.9"
      ],
      "metadata": {
        "id": "VReDCfn6GCWO"
      },
      "execution_count": 47,
      "outputs": []
    },
    {
      "cell_type": "code",
      "source": [
        "sars = step(Q_value,P,R,s0)"
      ],
      "metadata": {
        "id": "rSbjRms8BRfT"
      },
      "execution_count": 48,
      "outputs": []
    },
    {
      "cell_type": "code",
      "source": [
        "def calc_TD_error(sars,gamma,Q):\n",
        "  return sars[2] + gamma * np.argmax(Q[sars[3]][:]) - Q[sars[0]][sars[1]]"
      ],
      "metadata": {
        "id": "8z4QPwduCK_U"
      },
      "execution_count": 49,
      "outputs": []
    },
    {
      "cell_type": "code",
      "source": [
        "td_error = calc_TD_error(sars,gamma,Q_value)"
      ],
      "metadata": {
        "id": "wYIp5qFoIbYX"
      },
      "execution_count": 50,
      "outputs": []
    },
    {
      "cell_type": "code",
      "source": [
        "Q_value[sars[0]][sars[1]] += Q_value[sars[0]][sars[1]] * alpha * td_error"
      ],
      "metadata": {
        "id": "zlU50xcSGy-C"
      },
      "execution_count": 51,
      "outputs": []
    },
    {
      "cell_type": "code",
      "source": [
        "#学習\n",
        "state = s0\n",
        "for i in range(1000):\n",
        "  sars = step(Q_value,P,R,state)\n",
        "  td_error = calc_TD_error(sars,gamma,Q_value)\n",
        "  Q_value[sars[0]][sars[1]] += Q_value[sars[0]][sars[1]] * alpha * td_error\n",
        "  state = sars[3]\n",
        "print(Q_value)\n",
        "\n"
      ],
      "metadata": {
        "colab": {
          "base_uri": "https://localhost:8080/"
        },
        "id": "ak6mKuAiG8T5",
        "outputId": "430eee88-53e6-47ed-a99f-3ba50dd36cc1"
      },
      "execution_count": 59,
      "outputs": [
        {
          "output_type": "stream",
          "name": "stdout",
          "text": [
            "[[-2.19141115e+40 -1.35460894e+64 -1.09627851e+34]\n",
            " [ 1.00000000e+00  3.07454765e-01  2.45267024e-01]]\n"
          ]
        }
      ]
    }
  ]
}