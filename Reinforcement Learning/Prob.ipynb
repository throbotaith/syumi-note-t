{
 "cells": [
  {
   "attachments": {},
   "cell_type": "markdown",
   "metadata": {},
   "source": [
    "##### 確率の基礎と実装\n",
    "\n",
    "基礎はなんとなくわかって入るけど問題に対して考察できなかったりするのは実装力のなさが大きな理由です。\n",
    "\n",
    "ここでは確率から統計までの基礎的な実装を行っていく章です。\n",
    "\n",
    "* 確率分布\n",
    "* 統計の基礎\n",
    "* 仮説検定\n",
    "\n"
   ]
  },
  {
   "cell_type": "code",
   "execution_count": 2,
   "metadata": {},
   "outputs": [],
   "source": [
    "##1週間で確率統計実装\n",
    "import numpy as np\n",
    "#import matplotlib.pyplot as plt\n",
    "\n",
    "#可能な事象の集合を作り、そこから確率を求める。\n",
    "#サイコロのペアの集合\n",
    "data = {(i,j):i+j for i in range(1,7) for j in range(1,7)}\n",
    "\n",
    "from collections import defaultdict\n",
    "dinv = defaultdict(list)\n",
    "\n",
    "#和がNになるようなペアを取り出す\n",
    "for i,j in data.items():\n",
    "    dinv[j].append(i)\n",
    "\n",
    "#それぞれ、和の値が出る確率を計算する\n",
    "\n",
    "prob = {i:len(j)/36 for i ,j in dinv.items()}\n",
    "\n",
    "\n",
    "\n",
    "#射影ベクトルから条件付き確率、期待値を考える\n",
    "y = np.array([2,3])\n",
    "v = np.array([1,1])\n",
    "\n",
    "#yは位置ベクトルであり,vも任意の位置ベクトルである。v_optはyから垂直におろしてx=αvと交わった点を表す位置ベクトルである。\n",
    "#(y-v_opt)はxと垂直なので、(y-v_opt)・(v) = 0が成立する。以降<y-v_opt,v>で内積を表す\n",
    "alpha = 2\n",
    "x = alpha * v\n",
    "#<x,y>はE(xy)とかける。\n",
    "#v_optを求めていく。解きたいのは(y-x)^2をベクトルの次元分たしたものの最小値v_opt\n",
    "#v_opt= E(y|v)\n",
    "\n",
    "\n",
    "\n",
    "\n",
    "\n",
    "\n"
   ]
  },
  {
   "attachments": {},
   "cell_type": "markdown",
   "metadata": {},
   "source": [
    "* $f_{X, Y}=x+y$ where $(x,y)\\in[0,1]^2$\n",
    "を条件として\n",
    "\n",
    "* $\\mathbb{E}(X \\mid Y)=\\int_0^1 x \\frac{f_{X, Y}(x, y)}{f_Y(y)} d x$\n",
    "から\n",
    "\n",
    "* $\\mathbb{E}(X-\\mathbb{E}(X \\mid Y))^2=\\mathbb{E}(X)^2-\\mathbb{E}(\\mathbb{E}(X \\mid Y))^2$\n",
    "を求めよう\n",
    "\n",
    "* $f_{X, Y}:同時分布$\n",
    "\n",
    "* $f_{X}:周辺分布$\n"
   ]
  },
  {
   "cell_type": "code",
   "execution_count": 16,
   "metadata": {},
   "outputs": [],
   "source": [
    "from sympy.abc import y,x\n",
    "from sympy import integrate,simplify\n",
    "\n",
    "#同時分布はすでに与えられている\n",
    "fXY = x + y\n",
    "\n",
    "#周辺分布、Xについて周辺化\n",
    "fY = integrate(fXY,(x,0,1))\n",
    "fX = integrate(fXY,(y,0,1))\n",
    "\n",
    "#E(X|Y) これが求まったらおけ\n",
    "EXY = (3 *y+2)/(6*y+3)\n",
    "\n",
    "#求めているのは、誤差\n",
    "LHS=integrate((x-EXY)**2*fXY,(x,0,1),(y,0,1))\n"
   ]
  }
 ],
 "metadata": {
  "kernelspec": {
   "display_name": "Python 3",
   "language": "python",
   "name": "python3"
  },
  "language_info": {
   "codemirror_mode": {
    "name": "ipython",
    "version": 3
   },
   "file_extension": ".py",
   "mimetype": "text/x-python",
   "name": "python",
   "nbconvert_exporter": "python",
   "pygments_lexer": "ipython3",
   "version": "3.6.15"
  },
  "orig_nbformat": 4,
  "vscode": {
   "interpreter": {
    "hash": "db0f6cbdde3eb805f0a229b988d6bd72d452c42e640dd9958b4355934ec01bf5"
   }
  }
 },
 "nbformat": 4,
 "nbformat_minor": 2
}
