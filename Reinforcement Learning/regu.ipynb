{
 "cells": [
  {
   "attachments": {},
   "cell_type": "markdown",
   "metadata": {},
   "source": [
    "### 凸共役 ###\n",
    "\n",
    "$\\Omega$ を行動から実数を出力する強い凸関数とします。\n",
    "\n",
    "強凸関数は以下を満たす関数です。\n",
    "\n",
    "$f(y) \\geq f(x)+\\nabla f(x)^{\\top}(y-x)+\\frac{1}{2} \\alpha\\|y-x\\|^2$"
   ]
  },
  {
   "cell_type": "code",
   "execution_count": 3,
   "metadata": {},
   "outputs": [
    {
     "name": "stdout",
     "output_type": "stream",
     "text": [
      "強凸です。\n"
     ]
    }
   ],
   "source": [
    "def quadratic_function(x):\n",
    "    return x**2\n",
    "\n",
    "def gradient_of_quadratic(x):\n",
    "    return 2 * x\n",
    "\n",
    "def is_strongly_convex(function, gradient, m):\n",
    "    # Check the strong convexity condition for all x and y\n",
    "    for x in range(-10, 11):\n",
    "        for y in range(-10, 11):\n",
    "            if function(x) - function(y) - gradient(y) * (x - y) - 0.5 * m * (x - y)**2 < 0:\n",
    "                return False\n",
    "    return True\n",
    "\n",
    "m_parameter = 2\n",
    "\n",
    "result = is_strongly_convex(quadratic_function, gradient_of_quadratic, m_parameter)\n",
    "\n",
    "if result:\n",
    "    print(\"強凸です。\")\n",
    "else:\n",
    "    print(\"強凸ではありません。\")"
   ]
  },
  {
   "attachments": {},
   "cell_type": "markdown",
   "metadata": {},
   "source": [
    "$\\Omega$に対して、$\\Omega^*: \\mathbb{R}^{\\mathcal{A}} \\rightarrow \\mathbb{R}$　を定義します。これはすべての$q_s$(各状態ごとにA次元のベクトルを持つ)をルジャンドルフェンシフル変換することで、\n",
    "\n",
    "$\\Omega^*\\left(q_s\\right)=\\max _{\\pi_s \\in \\Delta_{\\mathcal{A}}}\\left\\langle\\pi_s, q_s\\right\\rangle-\\Omega\\left(\\pi_s\\right)$\n",
    "\n",
    "に変換することができます。\n",
    "\n",
    "$\\max _{\\pi_s \\in \\Delta_{\\mathcal{A}}}\\left\\langle\\pi_s, q_s\\right\\rangle = T_* v ?$\n",
    "\n"
   ]
  },
  {
   "attachments": {},
   "cell_type": "markdown",
   "metadata": {},
   "source": [
    "$\\Omega$を強凸とすると、次のような性質を持つことができる\n",
    "\n",
    "一意な最大化引数：$\\nabla \\Omega^*$ がリプシッツ連続であり、$\\nabla \\Omega^*\\left(q_s\\right)=\\operatorname{argmax}_{\\pi_s \\in \\Delta_{\\mathcal{A}}}\\left\\langle\\pi_s, q_s\\right\\rangle-\\Omega\\left(\\pi_s\\right)$ を満たす。\n",
    "\n",
    "リプシッツ連続ー＞縮小写像などの議論が可能？\n",
    "\n",
    "有界性：もし定数 $L_{\\Omega}$ と $U_{\\Omega}$ が存在して、任意の $\\pi_s \\in \\Delta_{\\mathcal{A}}$ に対して $L_{\\Omega} \\leq \\Omega\\left(\\pi_s\\right) \\leq U_{\\Omega}$ が成り立つ場合、$\\max _{a \\in \\mathcal{A}} q_s(a)-U_{\\Omega} \\leq \\Omega^*\\left(q_s\\right) \\leq \\max _{a \\in \\mathcal{A}} q_s(a)-L_{\\Omega}$ が成り立つ。\n",
    "\n",
    "？\n",
    "\n",
    "分配性：任意の $c \\in \\mathbb{R}$ およびベクトル 1 の場合に、$\\Omega^*\\left(q_s+c \\mathbf{1}\\right)=\\Omega^*\\left(q_s\\right)+c$ が成り立つ。\n",
    "\n",
    "収束性の証明などで使えそうな補題\n",
    "\n",
    "単調性：$q_{s, 1} \\leq q_{s, 2} \\Rightarrow \\Omega^*\\left(q_{s, 1}\\right) \\leq \\Omega^*\\left(q_{s, 2}\\right)$。\n",
    "\n",
    "ルジャンドルフェンシフル変換を施してもその大小関係は変わらない\n",
    "\n"
   ]
  },
  {
   "attachments": {},
   "cell_type": "markdown",
   "metadata": {},
   "source": [
    "以下に、論文で紹介されているような関数を実装してみます。\n",
    "\n",
    "$\\Omega\\left(\\pi_s\\right)=$ $\\sum_a \\pi_s(a) \\ln \\pi_s(a)$.\n",
    "\n",
    "$\\Omega^*\\left(q_s\\right)=\\ln \\sum_a \\exp q_s(a)$"
   ]
  },
  {
   "cell_type": "code",
   "execution_count": null,
   "metadata": {},
   "outputs": [],
   "source": [
    "import numpy as np\n",
    "\n",
    "def omega(pi_s):\n",
    "\n",
    "    omega_value = np.sum(pi_s * np.log(pi_s))\n",
    "    return omega_value\n",
    "\n",
    "def omega_star(q_s):\n",
    "    omega_star_value = np.log(np.sum(np.exp(q_s)))\n",
    "    return omega_star_value"
   ]
  },
  {
   "cell_type": "code",
   "execution_count": null,
   "metadata": {},
   "outputs": [],
   "source": []
  },
  {
   "cell_type": "code",
   "execution_count": null,
   "metadata": {},
   "outputs": [],
   "source": [
    "import sympy as sp\n",
    "\n",
    "# 変数の定義\n",
    "x = sp.Symbol('x')\n",
    "\n",
    "# 与えられた凸関数を定義\n",
    "original_function = x**2\n",
    "\n",
    "# 凸共役関数の定義\n",
    "conjugate_function = sp.LambertW(original_function)\n",
    "\n",
    "# 結果の表示\n",
    "print(\"Original Function:\", original_function)\n",
    "print(\"Conjugate Function:\", conjugate_function)"
   ]
  }
 ],
 "metadata": {
  "kernelspec": {
   "display_name": "Python 3",
   "language": "python",
   "name": "python3"
  },
  "language_info": {
   "codemirror_mode": {
    "name": "ipython",
    "version": 3
   },
   "file_extension": ".py",
   "mimetype": "text/x-python",
   "name": "python",
   "nbconvert_exporter": "python",
   "pygments_lexer": "ipython3",
   "version": "3.8.10"
  },
  "orig_nbformat": 4,
  "vscode": {
   "interpreter": {
    "hash": "916dbcbb3f70747c44a77c7bcd40155683ae19c65e1c03b4aa3499c5328201f1"
   }
  }
 },
 "nbformat": 4,
 "nbformat_minor": 2
}
