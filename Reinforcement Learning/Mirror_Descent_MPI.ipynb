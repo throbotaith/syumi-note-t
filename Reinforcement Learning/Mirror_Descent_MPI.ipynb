{
  "nbformat": 4,
  "nbformat_minor": 0,
  "metadata": {
    "colab": {
      "provenance": []
    },
    "kernelspec": {
      "name": "python3",
      "display_name": "Python 3"
    },
    "language_info": {
      "name": "python"
    }
  },
  "cells": [
    {
      "cell_type": "markdown",
      "source": [
        "### Mirror Descent MPI\n"
      ],
      "metadata": {
        "id": "YkUAnfgqzzEQ"
      }
    },
    {
      "cell_type": "code",
      "source": [
        "import numpy as np\n",
        "import random\n",
        "from typing import NamedTuple\n",
        "from  scipy.special import softmax\n",
        "import matplotlib.pyplot as plt\n"
      ],
      "metadata": {
        "id": "a3HqCLNdz9dx"
      },
      "execution_count": 4,
      "outputs": []
    },
    {
      "cell_type": "code",
      "source": [
        "\n",
        "S = 2\n",
        "A = 3\n",
        "S_set = np.arange(S)\n",
        "A_set = np.arange(A)\n",
        "gamma = 0.6\n",
        "\n",
        "#例1.5準拠\n",
        "#g(s,a)\n",
        "g = np.zeros((S,A))\n",
        "g[0][0] = 5\n",
        "g[0][1] = 10\n",
        "g[0][2] = 2\n",
        "g[1][0] = 1\n",
        "\n",
        "\n",
        "#P(s'|s,a)\n",
        "P = np.zeros((S,S,A))\n",
        "P[0][0][0] = 0.8\n",
        "P[1][0][0] = 0.2\n",
        "P[1][0][1] = 1\n",
        "P[0][0][2] = 1\n",
        "P[1][1][0] = 1\n",
        "P = np.transpose(P, (1, 2, 0))\n",
        "\n",
        "\n",
        "class MDP(NamedTuple):\n",
        "    S_set: np.array  # 状態集合\n",
        "    A_set: np.array  # 行動集合\n",
        "    gamma: float  # 割引率\n",
        "    g: np.array  # 報酬行列\n",
        "    P: np.array  # 遷移確率行列\n",
        "\n",
        "    @property\n",
        "    def S(self) -> int:  # 状態空間のサイズ\n",
        "        return len(self.S_set)\n",
        "\n",
        "    @property\n",
        "    def A(self) -> int:  # 行動空間のサイズ\n",
        "        return len(self.A_set)"
      ],
      "metadata": {
        "id": "m6F5XUGF0AQ5"
      },
      "execution_count": 2,
      "outputs": []
    },
    {
      "cell_type": "code",
      "source": [
        "pi = np.zeros((S,A))\n",
        "#決定的方策を作成\n",
        "#softmax方策を作る必要がある\n",
        "pi[0][0] = 1\n",
        "pi[1][1] = 1\n",
        "v = np.zeros(S)\n",
        "entropy_term = 0.1\n",
        "mdp2 = MDP(S_set, A_set, 0.5, g, P)\n",
        "\n",
        "\n",
        "_lambda = 0.1\n",
        "tau = 0.1\n",
        "#regularized greedy policyの定義\n",
        "def KL_divergence(p, q):\n",
        "    return np.sum(p * (np.log(p)-np.log(q)))\n",
        "\n",
        "def entropy(p):\n",
        "    return -np.sum(p * np.log(p))\n",
        "\n",
        "#πの集合、muはどうやって定義するのか\n",
        "PI = []\n",
        "mu = []\n",
        "#muがpkになる\n",
        "#pi *\n",
        "def function_for_calc_greedy_policy(Q,pi,mu,_lambda,tau)\n",
        "    return np.sum(pi * Q) - _lambda * KL_divergence(pi, mu) + tau * entropy(pi)\n",
        "\n",
        "def compute_regularized_greedy_policy(Q):\n",
        "  max_result = -float('inf')\n",
        "  for pi in PI:\n",
        "    result = function_for_calc_greedy_policy(Q,pi,mu,_lambda,tau)\n",
        "    if result > max_result:\n",
        "            max_result = result\n",
        "            max_pi = pi\n",
        "\n",
        "  return max_pi\n",
        "\n",
        "\n",
        "def compute_Q_pi_with_regularized_term(mdp2,Q,pi):\n",
        "    S,A = mdp2.S,mdp2.A\n",
        "    v = np.sum(pi * Q,axis = 1)\n",
        "    P_v = P @ (v -  0.1 * KL_divergence(pi,mu)+entropy(pi))\n",
        "    Q_pi = g + mdp2.gamma * P_v\n",
        "    return Q_pi\n",
        "\n",
        "\n",
        "\n",
        "\n",
        "def compute_Q_pi(mdp2,Q,pi):\n",
        "    S,A = mdp2.S,mdp2.A\n",
        "    v = np.sum(pi * Q,axis = 1)\n",
        "    P_v = P @ (v -  0.1 * np.sum( pi * np.log(pi+1e-8),axis = 1))\n",
        "    Q_pi = g + mdp2.gamma * P_v\n",
        "    return Q_pi\n",
        "\n",
        "updated_v = v\n",
        "gammas = [0.5,0.75,0.95]\n",
        "for gamma in gammas:\n",
        "    mdp2 = mdp2._replace(gamma=gamma)\n",
        "    v_value = []\n",
        "    pi = np.ones((S,A))/A\n",
        "    Q = np.zeros((S,A))\n",
        "    for i in range(100):\n",
        "        Q= compute_Q_pi(mdp2,Q,pi)\n",
        "        pi = softmax(Q,axis=1)\n",
        "        v_value.append(Q.max())\n",
        "    plt.plot(v_value,label = f\"{gamma}\")\n",
        "\n",
        "plt.ylabel(\"State Value\")\n",
        "plt.xlabel(\"Iteration  Num\")\n",
        "\n",
        "plt.legend()"
      ],
      "metadata": {
        "colab": {
          "base_uri": "https://localhost:8080/",
          "height": 466
        },
        "id": "82_xSot-z5vo",
        "outputId": "21e3ac58-6b82-43c3-9414-145c371b8c1e"
      },
      "execution_count": 6,
      "outputs": [
        {
          "output_type": "execute_result",
          "data": {
            "text/plain": [
              "<matplotlib.legend.Legend at 0x7f442ccc4070>"
            ]
          },
          "metadata": {},
          "execution_count": 6
        },
        {
          "output_type": "display_data",
          "data": {
            "text/plain": [
              "<Figure size 640x480 with 1 Axes>"
            ],
            "image/png": "[encoded data removed]"
          },
          "metadata": {}
        }
      ]
    }
  ]
}