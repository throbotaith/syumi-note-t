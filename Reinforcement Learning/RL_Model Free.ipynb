{
 "cells": [
  {
   "attachments": {},
   "cell_type": "markdown",
   "metadata": {},
   "source": [
    "#### モデルフリーの強化学習\n",
    "１．Q-Learning\\\n",
    "    Q-learningはTD学習の中でも方策オフ型の手法です。方策はε-greedyなりsoftmaxなりを使いますので、方策を改善することはありません。\n",
    "\n",
    "\n",
    "##### Q-Learningの学習フロー\n",
    "１．Q関数の初期化、方策の決定、初期状態の決定\\\n",
    "２．方策に従って報酬、次の状態の観測\\\n",
    "３．TD Errorの計算\\\n",
    "$\\delta_t:=r_t+\\gamma \\max _{a^{\\prime} \\in \\mathcal{A}} \\hat{Q}\\left(s_{t+1}, a^{\\prime}\\right)-\\hat{Q}\\left(s_t, a_t\\right)$\\\n",
    "４．Q関数の更新\\\n",
    "$\\hat{Q}\\left(s_t, a_t\\right):=\\hat{Q}\\left(s_t, a_t\\right)+\\alpha_t \\delta_t$\n",
    "        \n",
    "##### Q学習をJaxと行列形式で解いていく\n",
    "すごい人の方法をまねて実装していきましょう!()\n",
    "実装の方法\n",
    "\n",
    "\n",
    "\n",
    "\n",
    "\n",
    "２．SARSA\n",
    "\n",
    "３．Actor Critic"
   ]
  },
  {
   "attachments": {},
   "cell_type": "markdown",
   "metadata": {},
   "source": []
  },
  {
   "cell_type": "code",
   "execution_count": null,
   "metadata": {},
   "outputs": [],
   "source": []
  }
 ],
 "metadata": {
  "language_info": {
   "name": "python"
  },
  "orig_nbformat": 4
 },
 "nbformat": 4,
 "nbformat_minor": 2
}
