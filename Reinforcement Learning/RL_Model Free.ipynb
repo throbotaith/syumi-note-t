{
 "cells": [
  {
   "attachments": {},
   "cell_type": "markdown",
   "metadata": {},
   "source": [
    "#### モデルフリーの強化学習\n",
    "１．Q-Learning\\\n",
    "    Q-learningはTD学習の中でも方策オフ型の手法です。方策はε-greedyなりsoftmaxなりを使いますので、方策を改善することはありません。\n",
    "\n",
    "\n",
    "##### Q-Learningの学習フロー\n",
    "１．Q関数の初期化、方策の決定、初期状態の決定\\\n",
    "２．方策に従って報酬、次の状態の観測\\\n",
    "３．TD Errorの計算\\\n",
    "$\\delta_t:=r_t+\\gamma \\max _{a^{\\prime} \\in \\mathcal{A}} \\hat{Q}\\left(s_{t+1}, a^{\\prime}\\right)-\\hat{Q}\\left(s_t, a_t\\right)$\\\n",
    "４．Q関数の更新\\\n",
    "$\\hat{Q}\\left(s_t, a_t\\right):=\\hat{Q}\\left(s_t, a_t\\right)+\\alpha_t \\delta_t$\n",
    "        \n",
    "##### Q-LearningをJaxと行列形式で解いていく\n",
    "すごい人の方法をまねて実装していきましょう!()\n",
    "\n",
    "**Q-Learning**\n",
    "* 近似ベルマン作用素: $\\hat{T}Q(s, a) = r(s, a) + \\gamma \\max_{a'} Q(s', a')$\n",
    "* 更新則: $Q_{t+1}(s_t, a_t) \\leftarrow Q_{t}(s_t, a_t) + \\alpha_t \\left(\\hat{T}Q_t(s_t, a_t) - Q_t(s_t, a_t)\\right)$\n",
    "\n",
    "上をまとめると、タイムステップごとに近似ベルマン作用素を計算し、それを用いてQの値をこうしんします。\n",
    "\n",
    "* 更新則: $Q_{t+1} \\leftarrow Q_t + \\alpha_t D_t \\left(\\hat{T} Q_t - Q_t\\right)$\n",
    "\n",
    "**なぜこのようになるの？**\n",
    "\n"
   ]
  },
  {
   "cell_type": "code",
   "execution_count": 1,
   "metadata": {},
   "outputs": [],
   "source": [
    "#Q Learningの実装\n",
    "\n",
    "import random\n",
    "from functools import partial\n",
    "from typing import NamedTuple, Optional\n",
    "import jax\n",
    "import numpy as np\n",
    "import jax.numpy as jnp\n",
    "import seaborn as sns\n",
    "import matplotlib.pyplot as plt"
   ]
  },
  {
   "cell_type": "code",
   "execution_count": 11,
   "metadata": {},
   "outputs": [
    {
     "data": {
      "text/plain": [
       "Array([[1., 0., 0.]], dtype=float32)"
      ]
     },
     "execution_count": 11,
     "metadata": {},
     "output_type": "execute_result"
    }
   ],
   "source": [
    "#RLベンチマーク\n",
    "class MDP(NamedTuple):\n",
    "    S: np.array\n",
    "    A: np.array\n",
    "    gamma : float\n",
    "    horizon :int\n",
    "    rew: float\n",
    "    P: float\n",
    "    phi: Optional[np.array] = None # 特徴行列\n",
    "    optimal_Q: Optional[np.ndarray] = None  # 最適Q値\n",
    "    optimal_Q_idx: Optional[np.ndarray] = None  # 後でplot用に使います   \n",
    "\n",
    "    @property\n",
    "    def State(self) -> int:\n",
    "        return len(self.S)\n",
    "    \n",
    "    def Action(self) -> int:\n",
    "        return len(self.A)\n",
    "    \n",
    "\n",
    "#貪欲方策　2.で使う\n",
    "\n",
    "@jax.jit\n",
    "def greedy_policy(Q: np.ndarray):\n",
    "    greedy_policy = jnp.zeros_like(Q)\n",
    "\n",
    "    S,A = Q.shape\n",
    "    #Sの列にいき、その中で最もQの高いaを選択する\n",
    "    greedy_policy = greedy_policy.at[jnp.arange(S),Q.argmax(axis=1)].set(1)\n",
    "    assert greedy_policy.shape == (S,A)\n",
    "    return greedy_policy\n",
    "\n",
    "Q = np.zeros((1,3))\n",
    "\n",
    "\n",
    "greedy_policy(Q)\n"
   ]
  },
  {
   "attachments": {},
   "cell_type": "markdown",
   "metadata": {},
   "source": []
  },
  {
   "cell_type": "code",
   "execution_count": null,
   "metadata": {},
   "outputs": [],
   "source": []
  }
 ],
 "metadata": {
  "kernelspec": {
   "display_name": "Python 3",
   "language": "python",
   "name": "python3"
  },
  "language_info": {
   "codemirror_mode": {
    "name": "ipython",
    "version": 3
   },
   "file_extension": ".py",
   "mimetype": "text/x-python",
   "name": "python",
   "nbconvert_exporter": "python",
   "pygments_lexer": "ipython3",
   "version": "3.8.13"
  },
  "orig_nbformat": 4
 },
 "nbformat": 4,
 "nbformat_minor": 2
}
