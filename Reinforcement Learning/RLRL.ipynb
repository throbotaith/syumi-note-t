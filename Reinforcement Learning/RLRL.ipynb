{
 "cells": [
  {
   "attachments": {},
   "cell_type": "markdown",
   "metadata": {},
   "source": [
    "#### ベルマン方程式の解の一意性\n",
    "\n",
    "ベルマン最適方程式の解になる関数は最適価値関数$V^*$ただ一つです。。。ということです。\n",
    "\n",
    "$\n",
    "(B_*v(s) = v(s)), 全てのs \\in S\n",
    "$\n",
    "を満たす関数は$V^*$のみである。\n",
    "\n",
    "これは$v'(s) \\ne V*(s)q$が、上の性質が満たすと仮定して、背理法を用いて証明できます。\n",
    "\n",
    "\n",
    "#### 縮小性（更新していったら差分の大きな値が小さくなる）\n",
    "\n",
    "$v(s)$と$v'(s)$の差分の最小値は、ベルマン最適作用素適用後の$v(s)$と$v'(s)$の差分の最小値が大きくなる。\n",
    "また、ベルマン最適作用素適用後の$v(s)$と$v'(s)$の差分の最大値は$v(s)$と$v'(s)$の差分の最大値のりも小さくなります。\n",
    "これは大きさ(絶対値)についても成立する。\n",
    "\n",
    "\n",
    "#### N回反復と無限回反復の誤差について\n",
    "\n",
    "k回目とk-1回目の状態価値関数の差分の最大値と最小値を、以下のように定義する。\n",
    "\n",
    "$$\n",
    "\\left\\{\\begin{array}{l}\n",
    "\\underline{\\varepsilon}_k^{*, v} \\triangleq \\min _{s \\in \\mathcal{S}}\\left\\{\\left(\\mathrm{B}_*^k v\\right)(s)-\\left(\\mathrm{B}_*^{k-1} v\\right)(s)\\right\\} \\\\\n",
    "\\bar{\\varepsilon}_k^{*, v} \\triangleq \\max _{s \\in \\mathcal{S}}\\left\\{\\left(\\mathrm{B}_*^k v\\right)(s)-\\left(\\mathrm{B}_*^{k-1} v\\right)(s)\\right\\}\n",
    "\\end{array}\\right.\n",
    "$$\n",
    "\n",
    "この場合、誤差限界、つまり誤差の上下限について、以下の式が成立し、\n",
    "\n",
    "$$\n",
    "\\frac{\\gamma}{1-\\gamma} \\varepsilon_k^{*, v} \\leq V^*(s)-\\left(\\mathrm{B}_*^k v\\right)(s) \\leq \\frac{\\gamma}{1-\\gamma} \\bar{\\varepsilon}_k^{*, v}, \\quad \\forall s \\in S\n",
    "$$\n",
    "\n",
    "以下の性質、差分最小値はｋ＋１回目が、差分最大値はk回目がそれぞれよりも大きくなる。\n",
    "\n",
    "\n",
    "#### 最適方策、存在性と必要十分条件\n",
    "\n",
    "最適方策は、\n",
    "$$\n",
    "V^*(s)=V^{\\pi^*}(s), \\quad \\forall s \\in \\mathcal{S}\n",
    "$$\n",
    "を満たす方策のことである。\n",
    "\n"
   ]
  },
  {
   "cell_type": "code",
   "execution_count": null,
   "metadata": {},
   "outputs": [],
   "source": []
  }
 ],
 "metadata": {
  "language_info": {
   "name": "python"
  },
  "orig_nbformat": 4
 },
 "nbformat": 4,
 "nbformat_minor": 2
}

