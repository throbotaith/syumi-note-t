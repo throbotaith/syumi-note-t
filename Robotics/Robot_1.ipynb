{
 "cells": [
  {
   "attachments": {},
   "cell_type": "markdown",
   "metadata": {},
   "source": [
    "pip "
   ]
  },
  {
   "cell_type": "code",
   "execution_count": null,
   "metadata": {},
   "outputs": [],
   "source": []
  },
  {
   "attachments": {},
   "cell_type": "markdown",
   "metadata": {},
   "source": [
    "#### ロボティクス１　\n",
    "\n",
    "強化学習等でロボットを制御する場合、その手法として位置制御やトルク制御などがよく使われます。ただ、強化学習では行動は離散であったり連続だとしてもあまり制御内容は重視されておらず、詳しい内容を知らずに方策学習を回しているというのが現状だと思います。研究をする上ではロボットがどの様に動いているかを説明できる必要があるので基礎の基礎からまとめていきたいと思います。座学だけだとあれなので、drakeを使った実装も行います。...とおもったのですが、ローカルだとdrakeが全然動かないので保留です。\n",
    "![Alt text](%E3%83%AD%E3%83%9C%E3%83%83%E3%83%88.png)\n",
    "\n",
    "\n",
    "これはトルク制御を使うよ\n",
    "\n",
    "\n",
    "##### 位置制御\n",
    "\n",
    "位置制御とは、Position Sensorから取得した値をもとに、目標点に移動するためのモーター指令を出力する制御です。\n",
    "\n",
    "PID制御の例\n",
    "$\\begin{aligned}\n",
    "&command = k_p\\left(\\theta^d-\\theta\\right)+k_d\\left(\\dot{\\theta}^d-\\dot{\\theta}\\right)+k_I \\int_0^t\\left[\\theta^t(d)-\\theta(t)\\right] dt\\\\ \n",
    "\\end{aligned}$\n",
    "\n",
    "\n",
    "\n"
   ]
  },
  {
   "attachments": {},
   "cell_type": "markdown",
   "metadata": {},
   "source": [
    "#### ロボットの方程式\n",
    "標準の運動方程式$ma = F$をロボットの一般的な方程式で書き換えます。\n",
    "\n",
    "$M(q) \\ddot{q}+C(q, \\dot{q}) \\dot{q}=\\tau_g(g)+u$\n",
    "\n",
    "・$M$：慣性行列です。剛体ごとに固有の値を持つ行列です。\n",
    "\n",
    "・$q$：ジョイントの位置のベクトルです。多関節を想定\n",
    "\n",
    "・$\\ddot{q}$：ジョイントの加速度のベクトルです。ドット１つ少ないのは速度\n",
    "\n",
    "・$C(q, \\dot{q})$：コリオリに関する項です。\n",
    "\n",
    "・$\\tau_g(g)$：重力によるトルクです。\n",
    "\n",
    "・$u$：インプットとしてのトルクです。"
   ]
  },
  {
   "cell_type": "markdown",
   "metadata": {},
   "source": []
  },
  {
   "cell_type": "markdown",
   "metadata": {},
   "source": []
  },
  {
   "cell_type": "markdown",
   "metadata": {},
   "source": []
  },
  {
   "cell_type": "code",
   "execution_count": null,
   "metadata": {},
   "outputs": [],
   "source": []
  },
  {
   "cell_type": "code",
   "execution_count": null,
   "metadata": {},
   "outputs": [],
   "source": []
  },
  {
   "cell_type": "markdown",
   "metadata": {},
   "source": []
  },
  {
   "cell_type": "markdown",
   "metadata": {},
   "source": []
  },
  {
   "cell_type": "markdown",
   "metadata": {},
   "source": []
  }
 ],
 "metadata": {
  "kernelspec": {
   "display_name": "Python 3",
   "language": "python",
   "name": "python3"
  },
  "language_info": {
   "codemirror_mode": {
    "name": "ipython",
    "version": 3
   },
   "file_extension": ".py",
   "mimetype": "text/x-python",
   "name": "python",
   "nbconvert_exporter": "python",
   "pygments_lexer": "ipython3",
   "version": "3.8.13"
  },
  "orig_nbformat": 4
 },
 "nbformat": 4,
 "nbformat_minor": 2
}
