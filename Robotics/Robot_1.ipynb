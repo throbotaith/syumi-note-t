{
 "cells": [
  {
   "attachments": {},
   "cell_type": "markdown",
   "metadata": {},
   "source": [
    "pip "
   ]
  },
  {
   "cell_type": "code",
   "execution_count": 3,
   "metadata": {},
   "outputs": [
    {
     "name": "stdout",
     "output_type": "stream",
     "text": [
      "Collecting manipulation\n",
      "\u001b[?25l  Downloading https://files.pythonhosted.org/packages/d3/90/8127df002e4833ab985111b27e0ebf713e157bbfb0035f584d3b6d7d1e5b/manipulation-2022.6.8-py3-none-any.whl (328kB)\n",
      "\u001b[K    100% |████████████████████████████████| 337kB 157kB/s ta 0:00:01\n",
      "\u001b[?25hCollecting torchvision>=0.9.0 (from manipulation)\n",
      "\u001b[?25l  Downloading https://files.pythonhosted.org/packages/38/03/c963ecdf98fae15286437ae533750e2c39e988b7d8c86fad4dbc73a3a146/torchvision-0.11.2-cp36-cp36m-manylinux1_x86_64.whl (23.3MB)\n",
      "\u001b[K    100% |████████████████████████████████| 23.3MB 130kB/s ta 0:00:01\n",
      "\u001b[?25hCollecting PyMCubes>=0.0.9 (from manipulation)\n",
      "\u001b[?25l  Downloading https://files.pythonhosted.org/packages/22/4a/fd2e95b1a2010d2a21c071313472f8d7e66cb8cb3351cef1b83c5ebb7cbe/PyMCubes-0.1.4.tar.gz (109kB)\n",
      "\u001b[K    100% |████████████████████████████████| 112kB 170kB/s a 0:00:01\n",
      "\u001b[?25h  Installing build dependencies ... \u001b[?25ldone\n",
      "\u001b[?25hCollecting tensorboard>=2.5.0 (from manipulation)\n",
      "\u001b[?25l  Downloading https://files.pythonhosted.org/packages/80/49/a5ec29886ef823718c8ae54ed0b3ad7e19066b5bf21cec5038427e6a04c4/tensorboard-2.10.1-py3-none-any.whl (5.9MB)\n",
      "\u001b[K    100% |████████████████████████████████| 5.9MB 273kB/s ta 0:00:01    83% |██████████████████████████▊     | 4.9MB 327kB/s eta 0:00:03\n",
      "\u001b[?25hCollecting timeout-decorator>=0.4.1 (from manipulation)\n",
      "  Downloading https://files.pythonhosted.org/packages/80/f8/0802dd14c58b5d3d72bb9caa4315535f58787a1dc50b81bbbcaaa15451be/timeout-decorator-0.5.0.tar.gz\n",
      "Collecting nevergrad>=0.4.3 (from manipulation)\n",
      "\u001b[?25l  Downloading https://files.pythonhosted.org/packages/22/27/f6002c874ca6466337d5aaa1da2e0c08338a28ec4877c0dba36d57d9c2ac/nevergrad-0.6.0-py3-none-any.whl (439kB)\n",
      "\u001b[K    100% |████████████████████████████████| 440kB 318kB/s ta 0:00:01\n",
      "\u001b[?25hCollecting mpld3>=0.5.1 (from manipulation)\n",
      "\u001b[?25l  Downloading https://files.pythonhosted.org/packages/67/dc/68f18f12b851e1ad67f9eb05c1006592e6e9d231c7307cad504928341bc7/mpld3-0.5.9-py3-none-any.whl (201kB)\n",
      "\u001b[K    100% |████████████████████████████████| 204kB 301kB/s ta 0:00:01\n",
      "\u001b[?25hCollecting open3d==0.10.0.0 (from manipulation)\n",
      "\u001b[?25l  Downloading https://files.pythonhosted.org/packages/60/f9/c4ae8750e8c90d3d45da45ff08f87040ec70dc596a1c94a3bef01faff6ce/open3d-0.10.0.0-cp36-cp36m-manylinux1_x86_64.whl (4.6MB)\n",
      "\u001b[K    100% |████████████████████████████████| 4.6MB 206kB/s ta 0:00:01\n",
      "\u001b[?25hCollecting gradescope-utils>=0.4.0 (from manipulation)\n",
      "  Downloading https://files.pythonhosted.org/packages/97/69/33562623bb13d90a84aa5533284d6466fef3662ba148a92312211abae486/gradescope_utils-0.5.0-py2.py3-none-any.whl\n",
      "Collecting torch>=1.7.0 (from manipulation)\n",
      "\u001b[?25l  Downloading https://files.pythonhosted.org/packages/a4/54/81b1c3c574a1ffde54b0c82ed2a37d81395709cdd5f50e59970aeed5d95e/torch-1.10.2-cp36-cp36m-manylinux1_x86_64.whl (881.9MB)\n",
      "\u001b[K    100% |████████████████████████████████| 881.9MB 5.5kB/s a 0:00:0124   25% |████████▏                       | 226.5MB 78kB/s eta 2:18:25    53% |█████████████████▏              | 472.2MB 108kB/s eta 1:02:48    69% |██████████████████████▏         | 611.2MB 124kB/s eta 0:36:19    71% |██████████████████████▉         | 630.1MB 57kB/s eta 1:12:35    76% |████████████████████████▌       | 675.4MB 197kB/s eta 0:17:27    76% |████████████████████████▋       | 677.2MB 88kB/s eta 0:38:46    85% |███████████████████████████▍    | 753.8MB 384kB/s eta 0:05:33\n",
      "\u001b[?25hCollecting drake>=1.3.0 (from manipulation)\n",
      "\u001b[31m  Could not find a version that satisfies the requirement drake>=1.3.0 (from manipulation) (from versions: )\u001b[0m\n",
      "\u001b[31mNo matching distribution found for drake>=1.3.0 (from manipulation)\u001b[0m\n",
      "\u001b[33mYou are using pip version 18.1, however version 21.3.1 is available.\n",
      "You should consider upgrading via the 'pip install --upgrade pip' command.\u001b[0m\n",
      "Note: you may need to restart the kernel to use updated packages.\n"
     ]
    }
   ],
   "source": [
    "pip install manipulation"
   ]
  },
  {
   "cell_type": "code",
   "execution_count": null,
   "metadata": {},
   "outputs": [],
   "source": []
  },
  {
   "attachments": {},
   "cell_type": "markdown",
   "metadata": {},
   "source": [
    "#### ロボティクス１　\n",
    "\n",
    "強化学習等でロボットを制御する場合、その手法として位置制御やトルク制御などがよく使われます。ただ、強化学習では行動は離散であったり連続だとしてもあまり制御内容は重視されておらず、詳しい内容を知らずに方策学習を回しているというのが現状だと思います。研究をする上ではロボットがどの様に動いているかを説明できる必要があるので基礎の基礎からまとめていきたいと思います。座学だけだとあれなので、drakeを使った実装も行います。\n",
    "![Alt text](%E3%83%AD%E3%83%9C%E3%83%83%E3%83%88.png)\n",
    "\n",
    "\n",
    "これはトルク制御を使うよ\n",
    "\n",
    "\n",
    "\n",
    "#####　事前の整理\n",
    "\n",
    "トルクの定義\n",
    "\n",
    "\n",
    "なぜ、トルク制御ではなく位置制御が主流なのか？\n",
    "\n",
    "トルク制御は、文字通り回転角速度を直接制御するため位置制御に比べて精度や応答性が高いです。位置制御は間接的に回転角速度を制御するため、そのような部分で劣っています。ではなぜ制御の主流がトルク制御ではないのでしょうか？結論から言うとトルクと比例した入力を作るのが難しいからです。トルク制御は通常、以下のような式で表されます。\n",
    "\n",
    "$\\tau_{\\text {motor }}=k_t i$\n",
    "\n",
    "入力は電流で、トルクと比例していることが分かります。しかし実際にはギアの回転数を調整するハードウェア(変速機、減速機など)が搭載されているので、単純な比例関係にはなりません。\n",
    "\n",
    "\n",
    "##### 位置制御\n",
    "\n",
    "\n",
    "\n",
    "\n"
   ]
  },
  {
   "cell_type": "markdown",
   "metadata": {},
   "source": []
  }
 ],
 "metadata": {
  "kernelspec": {
   "display_name": "Python 3",
   "language": "python",
   "name": "python3"
  },
  "language_info": {
   "codemirror_mode": {
    "name": "ipython",
    "version": 3
   },
   "file_extension": ".py",
   "mimetype": "text/x-python",
   "name": "python",
   "nbconvert_exporter": "python",
   "pygments_lexer": "ipython3",
   "version": "3.6.8"
  },
  "orig_nbformat": 4
 },
 "nbformat": 4,
 "nbformat_minor": 2
}
