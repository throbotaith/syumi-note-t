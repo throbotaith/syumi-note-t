{
 "cells": [
  {
   "attachments": {},
   "cell_type": "markdown",
   "metadata": {},
   "source": [
    "pip "
   ]
  },
  {
   "cell_type": "code",
   "execution_count": null,
   "metadata": {},
   "outputs": [],
   "source": []
  },
  {
   "attachments": {},
   "cell_type": "markdown",
   "metadata": {},
   "source": [
    "#### ロボティクス１　\n",
    "\n",
    "強化学習等でロボットを制御する場合、その手法として位置制御やトルク制御などがよく使われます。ただ、強化学習では行動は離散であったり連続だとしてもあまり制御内容は重視されておらず、詳しい内容を知らずに方策学習を回しているというのが現状だと思います。研究をする上ではロボットがどの様に動いているかを説明できる必要があるので基礎の基礎からまとめていきたいと思います。座学だけだとあれなので、drakeを使った実装も行います。\n",
    "![Alt text](%E3%83%AD%E3%83%9C%E3%83%83%E3%83%88.png)\n",
    "\n",
    "\n",
    "これはトルク制御を使うよ\n",
    "\n",
    "\n",
    "\n",
    "#####　事前の整理\n",
    "\n",
    "トルクの定義\n",
    "\n",
    "\n",
    "なぜ、トルク制御ではなく位置制御が主流なのか？\n",
    "\n",
    "トルク制御は、文字通り回転角速度を直接制御するため位置制御に比べて精度や応答性が高いです。位置制御は間接的に回転角速度を制御するため、そのような部分で劣っています。ではなぜ制御の主流がトルク制御ではないのでしょうか？結論から言うとトルクと比例した入力を作るのが難しいからです。トルク制御は通常、以下のような式で表されます。\n",
    "\n",
    "$\\tau_{\\text {motor }}=k_t i$\n",
    "\n",
    "入力は電流で、トルクと比例していることが分かります。しかし実際にはギアの回転数を調整するハードウェア(変速機、減速機など)が搭載されているので、単純な比例関係にはなりません。\n",
    "\n",
    "\n",
    "##### 位置制御\n",
    "\n",
    "\n",
    "\n",
    "\n"
   ]
  },
  {
   "cell_type": "markdown",
   "metadata": {},
   "source": []
  }
 ],
 "metadata": {
  "kernelspec": {
   "display_name": "Python 3",
   "language": "python",
   "name": "python3"
  },
  "language_info": {
   "codemirror_mode": {
    "name": "ipython",
    "version": 3
   },
   "file_extension": ".py",
   "mimetype": "text/x-python",
   "name": "python",
   "nbconvert_exporter": "python",
   "pygments_lexer": "ipython3",
   "version": "3.6.8"
  },
  "orig_nbformat": 4,
  "vscode": {
   "interpreter": {
    "hash": "d45fa7054839d6508df2a7ac8ba1a61a0eb7e510d053d521da9ad4311f330b28"
   }
  }
 },
 "nbformat": 4,
 "nbformat_minor": 2
}
