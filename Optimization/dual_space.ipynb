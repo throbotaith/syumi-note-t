{
  "nbformat": 4,
  "nbformat_minor": 0,
  "metadata": {
    "colab": {
      "provenance": []
    },
    "kernelspec": {
      "name": "python3",
      "display_name": "Python 3"
    },
    "language_info": {
      "name": "python"
    }
  },
  "cells": [
    {
      "cell_type": "markdown",
      "source": [
        "**双対空間**\n",
        "\n",
        "複素空間(実数空間含む)$\\mathbb{C}$上のノルム空間$X$から$\\mathbb{C}$への線形写像全体の集合を$X^*$としたとき、これを双対空間と定義します。\n",
        "\n",
        "性質１．$X^*$は$X$にかかわらず**バナッハ空間**となる。つまり収束性を議論できる空間になる。\n",
        "\n",
        "性質２.$X$の次元と$X^*$の次元は一致する\n",
        "\n",
        "双対空間を考えることで、$X$を入力として拡大実数を出力する(無限大を含めた実数)**函数$f$**に対して双対空間$X^*$を入力として拡大実数を出力する**凸共役**$f^*$について、値の**上限**を定義することができます。\n",
        "\n",
        "$f^*(x^*) := sup${$ \\langle x^*,x  \\rangle $}$|x \\in X$}$\n",
        "\n",
        "\n"
      ],
      "metadata": {
        "id": "axD-wKjJINQ1"
      }
    },
    {
      "cell_type": "code",
      "execution_count": 1,
      "metadata": {
        "colab": {
          "base_uri": "https://localhost:8080/"
        },
        "id": "oH2u-vNEIFhL",
        "outputId": "e9f3bdf6-5d46-4fcc-e920-a28a1926fef3"
      },
      "outputs": [
        {
          "output_type": "stream",
          "name": "stdout",
          "text": [
            "f^*(x^*) = 18\n"
          ]
        }
      ],
      "source": [
        "import numpy as np\n",
        "\n",
        "# ベクトル x^* を定義\n",
        "x_star = np.array([2, 3])\n",
        "\n",
        "# 集合 X を定義\n",
        "X = np.array([[1, 2],\n",
        "              [3, 4],\n",
        "              [-1, 1]])\n",
        "\n",
        "# 関数 f^*(x^*) の定義\n",
        "def f_star(x_star, X):\n",
        "    max_value = np.max(np.dot(X, x_star))\n",
        "    return max_value\n",
        "\n",
        "# f^*(x^*) の計算\n",
        "result = f_star(x_star, X)\n",
        "print(\"f^*(x^*) =\", result)"
      ]
    }
  ]
}