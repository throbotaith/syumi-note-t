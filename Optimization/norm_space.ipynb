{
 "cells": [
  {
   "attachments": {},
   "cell_type": "markdown",
   "metadata": {},
   "source": [
    "線形空間はある8つの性質を持つ,積の写像および和の写像が定義できる空間を言います。線形空間の例としては２次元ユークリッド空間などがあります。\n",
    "\n",
    "そのような線形空間の中でも、ノルム(ベクトルの大きさ)を定義できる空間をノルム空間といいます。\n",
    "\n"
   ]
  },
  {
   "cell_type": "code",
   "execution_count": 3,
   "metadata": {},
   "outputs": [
    {
     "name": "stdout",
     "output_type": "stream",
     "text": [
      "ノルムは0以上です\n",
      "OK\n",
      "三角不等式を満たしています\n",
      "ノルムは0以上です\n",
      "ノルムが0のとき、その入力値も0 OK\n",
      "OK\n",
      "三角不等式を満たしています\n"
     ]
    }
   ],
   "source": [
    "#2次元ユークリッド空間(=Linear Space)において、\n",
    "#ユークリッドノルムを定義し、これがノルムの定義に沿ったノルムであるかをチェックする\n",
    "import numpy as np\n",
    "\n",
    "def euclidean_norm(x,k):\n",
    "    kx = k *x\n",
    "    return np.sqrt(kx[0]**2 + kx[1]**2)\n",
    "\n",
    "\n",
    "def check_norm(x,y,k):\n",
    "    if euclidean_norm(x,k) >= 0:\n",
    "        print(\"ノルムは0以上です\")\n",
    "    \n",
    "    if euclidean_norm(x,k) == 0:\n",
    "        if x[0] == x[1] == 0:\n",
    "            print(\"ノルムが0のとき、その入力値も0 OK\")\n",
    "        else:\n",
    "            print(\"ノルムが0のとき、その入力値が0じゃない\")\n",
    "\n",
    "    if euclidean_norm(x,k) == k * euclidean_norm(x,1):\n",
    "        print(\"OK\")\n",
    "\n",
    "    if euclidean_norm(x+y,k) <= euclidean_norm(x,k) + euclidean_norm(y,k):\n",
    "        print(\"三角不等式を満たしています\")\n",
    "\n",
    "    \n",
    "x = np.array([1, 1])\n",
    "y = np.array([2, 4])\n",
    "k = 2\n",
    "\n",
    "check_norm(x,y,k)\n",
    "            \n",
    "z = np.array([0, 0])\n",
    "\n",
    "check_norm(z,y,k)\n",
    "\n"
   ]
  },
  {
   "attachments": {},
   "cell_type": "markdown",
   "metadata": {},
   "source": [
    "ノルム空間は、ただの線形空間でありません。ノルム空間は**距離**を定義できます。"
   ]
  },
  {
   "cell_type": "code",
   "execution_count": 4,
   "metadata": {},
   "outputs": [
    {
     "name": "stdout",
     "output_type": "stream",
     "text": [
      "6.324555320336759\n"
     ]
    }
   ],
   "source": [
    "#距離関数の定義\n",
    "\n",
    "def distance(x,y,k):\n",
    "    return euclidean_norm(x-y,k)\n",
    "\n",
    "distance = distance(x,y,k)"
   ]
  },
  {
   "attachments": {},
   "cell_type": "markdown",
   "metadata": {},
   "source": [
    "ノルム空間$V$上の距離関数$d$について、以下の性質を満たす時、$V$または$(V,d)$を**距離空間**といいます。\n",
    "\n",
    "・$d(x,y) \\leq 0$\n",
    "\n",
    "・$d(x,y) = 0 <=> x=y$\n",
    "\n",
    "・$d(x,y) = d(y,x)$\n",
    "\n",
    "・$d(x,z) \\geq d(x,y)+ d(y,z)$\n",
    "\n",
    "\n",
    "さらに、ノルム空間が距離空間において、**完備**であるかは重要です。なぜなら完備なノルム空間は**バナッハ空間**とよばれ、収束する値はわからないが、**収束することはわかる**空間として定義できるからです。収束性について議論する分野では重要な空間です。実際に強化学習におけるベルマン作用素の繰り返し適用が,特定の値に収束することをバナッハの不動点定理を使って示しますが、これはバナッハ空間(距離完備空間)の上で議論されています。\n",
    "\n",
    "距離空間が完備である　とは距離空間$V$における任意のコーシー列(後述)が収束する(Vの中で完結する)ことである。\n",
    "\n",
    "コーシー列\n",
    "\n",
    "Vの部分集合列 {$a_n$}が\n",
    "\n",
    "$n,m \\geq N \\rightarrow d(a_n,a_m) < t$\n",
    "\n",
    "を満たしている場合,この数列はコーシー列という。\n",
    "\n",
    "任意の$t > 0$には、$N \\geq 1$が対応している。\n",
    "\n",
    "$t$を任意に決めて、それに対応する$N$が決まれば、そのNよりも大きな値は$t$よりも小さくなるはずです。ここで$t$は任意の値ですので恐ろしく小さな値でも当てはまります。それよりも小さな値にたどり着く。つまりそれは収束すること言うことですね。\n"
   ]
  },
  {
   "cell_type": "markdown",
   "metadata": {},
   "source": []
  }
 ],
 "metadata": {
  "kernelspec": {
   "display_name": "Python 3",
   "language": "python",
   "name": "python3"
  },
  "language_info": {
   "codemirror_mode": {
    "name": "ipython",
    "version": 3
   },
   "file_extension": ".py",
   "mimetype": "text/x-python",
   "name": "python",
   "nbconvert_exporter": "python",
   "pygments_lexer": "ipython3",
   "version": "3.8.10"
  },
  "orig_nbformat": 4,
  "vscode": {
   "interpreter": {
    "hash": "5b3ded1ccb95c1d9bd405e7b823d9e85424cde40fbb5985eb47e999ef50e15b4"
   }
  }
 },
 "nbformat": 4,
 "nbformat_minor": 2
}
